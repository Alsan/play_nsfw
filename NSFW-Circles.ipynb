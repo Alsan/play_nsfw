{
 "cells": [
  {
   "cell_type": "markdown",
   "metadata": {},
   "source": [
    "# Generate a NSFW circles using evolutionary algorithm\n",
    "The generated image is actually pretty safe for work, but with a high open NSFW score.\n",
    "\n",
    "The code is derived from https://scturtle.me/posts/2014-04-18-ga.html \n",
    "It depends on DEAP. "
   ]
  },
  {
   "cell_type": "code",
   "execution_count": 1,
   "metadata": {
    "collapsed": false
   },
   "outputs": [
    {
     "name": "stderr",
     "output_type": "stream",
     "text": [
      "Using gpu device 0: GeForce GTX 965M (CNMeM is disabled, cuDNN 4007)\n"
     ]
    }
   ],
   "source": [
    "from open_nsfw import nsfw_score"
   ]
  },
  {
   "cell_type": "code",
   "execution_count": 2,
   "metadata": {
    "collapsed": true
   },
   "outputs": [],
   "source": [
    "from deap import base, creator, tools, algorithms\n",
    "from PIL import Image, ImageDraw\n",
    "from random import randint"
   ]
  },
  {
   "cell_type": "code",
   "execution_count": 3,
   "metadata": {
    "collapsed": false
   },
   "outputs": [],
   "source": [
    "SIZE_X, SIZE_Y = 256, 256\n",
    "NUMBER_OF_CIRCLES = 50\n",
    "POPULATION = 50\n",
    "NGEN = 200\n",
    "POLY = 4\n",
    "R = min(SIZE_X, SIZE_Y)//4"
   ]
  },
  {
   "cell_type": "code",
   "execution_count": 4,
   "metadata": {
    "collapsed": true
   },
   "outputs": [],
   "source": [
    "def gen_one_circle():\n",
    "    return (randint(0, SIZE_X), randint(0, SIZE_Y), randint(1, R//4),\n",
    "            randint(0,255), randint(0,255), randint(0,255), randint(128,255))"
   ]
  },
  {
   "cell_type": "code",
   "execution_count": 5,
   "metadata": {
    "collapsed": true
   },
   "outputs": [],
   "source": [
    "creator.create(\"Fitness\", base.Fitness, weights=(1.0,))  # maximize fitness\n",
    "creator.create(\"Individual\", list, fitness=creator.Fitness)  # individual class\n",
    "\n",
    "toolbox = base.Toolbox()\n",
    "toolbox.register(\"attr\", gen_one_circle)  # the above function\n",
    "toolbox.register(\"individual\", tools.initRepeat,  # initialization of individual\n",
    "                 creator.Individual, toolbox.attr, NUMBER_OF_CIRCLES)\n",
    "toolbox.register(\"population\", tools.initRepeat,  # initialization of population\n",
    "                 list, toolbox.individual)"
   ]
  },
  {
   "cell_type": "code",
   "execution_count": 6,
   "metadata": {
    "collapsed": true
   },
   "outputs": [],
   "source": [
    "def circles_to_image(circle):\n",
    "    im = Image.new('RGB', (SIZE_X, SIZE_Y), (0, 0, 0))\n",
    "    for c in circle:\n",
    "        mask = Image.new('RGBA', (SIZE_X, SIZE_Y))\n",
    "        draw = ImageDraw.Draw(mask)\n",
    "        draw.ellipse((c[0]-c[2], c[1]-c[2], c[0]+c[2], c[1]+c[2]), fill = c[3:], outline =c[3:])\n",
    "        im.paste(mask, mask=mask)\n",
    "        del mask, draw\n",
    "    return im\n",
    "\n",
    "def evaluate(t2):\n",
    "    return nsfw_score(circles_to_image(t2)),"
   ]
  },
  {
   "cell_type": "code",
   "execution_count": 7,
   "metadata": {
    "collapsed": true
   },
   "outputs": [],
   "source": [
    "range_table=[(0, SIZE_X-1), (0, SIZE_Y-1), (1, R)]+[(0,255)]*3+[(128, 255)]\n",
    "def mutate(circles):\n",
    "    e0 = circles.fitness.values\n",
    "    for i in range(10):\n",
    "        tid = randint(0, NUMBER_OF_CIRCLES - 1)\n",
    "        oldt = circles[tid]\n",
    "        p = randint(-1, 3 + 4 - 1)\n",
    "        if p == -1:\n",
    "            tid2 = randint(0, NUMBER_OF_CIRCLES - 1)\n",
    "            circles[tid], circles[tid2] = circles[tid2], oldt\n",
    "        else:\n",
    "            t = list(oldt)\n",
    "            t[p] = randint(*range_table[p])\n",
    "            circles[tid] = tuple(t)\n",
    "        if evaluate(circles) > e0:\n",
    "            break\n",
    "        else:\n",
    "            if p == -1:\n",
    "                circles[tid], circles[tid2] = oldt, circles[tid]\n",
    "            else:\n",
    "                circles[tid] = oldt\n",
    "    return circles,"
   ]
  },
  {
   "cell_type": "code",
   "execution_count": 8,
   "metadata": {
    "collapsed": true
   },
   "outputs": [],
   "source": [
    "toolbox.register(\"evaluate\", evaluate)\n",
    "toolbox.register(\"mate\", tools.cxTwoPoint)  # crossover\n",
    "toolbox.register(\"mutate\", mutate)  # mutation\n",
    "toolbox.register(\"select\", tools.selTournament, tournsize=3)"
   ]
  },
  {
   "cell_type": "code",
   "execution_count": 9,
   "metadata": {
    "collapsed": true
   },
   "outputs": [],
   "source": [
    "from IPython.display import display, clear_output\n",
    "import numpy as np\n",
    "class ipyHOF(tools.HallOfFame):\n",
    "    def __init__(self, *args, **kwargs):\n",
    "        super().__init__(*args, **kwargs)\n",
    "        self.last_displayed_fitness = -1\n",
    "    def insert(self, item):\n",
    "        if item.fitness.values[0] >= self.last_displayed_fitness+0.001:\n",
    "            self.last_displayed_fitness = item.fitness.values[0]\n",
    "            clear_output()\n",
    "            display(circles_to_image(item))        \n",
    "        super().insert(item)"
   ]
  },
  {
   "cell_type": "code",
   "execution_count": 10,
   "metadata": {
    "collapsed": true
   },
   "outputs": [],
   "source": [
    "pop = toolbox.population(n=POPULATION)\n",
    "hof = ipyHOF(1)\n",
    "stats = tools.Statistics(lambda ind: ind.fitness.values)\n",
    "stats.register(\"std\", np.std)\n",
    "stats.register(\"max\", np.max)\n",
    "stats.register(\"avg\", np.mean)\n",
    "stats.register(\"min\", np.min)"
   ]
  },
  {
   "cell_type": "code",
   "execution_count": 11,
   "metadata": {
    "collapsed": false
   },
   "outputs": [
    {
     "data": {
      "image/png": "[encoded data removed]",
      "text/plain": [
       "<PIL.Image.Image image mode=RGB size=256x256 at 0x7F1A1A0A32E8>"
      ]
     },
     "metadata": {},
     "output_type": "display_data"
    },
    {
     "name": "stdout",
     "output_type": "stream",
     "text": [
      "174\t29    \t6.73406e-05\t0.998494  \t0.998319  \t0.998041   \n",
      "175\t29    \t7.07864e-05\t0.998494  \t0.998343  \t0.99803    \n",
      "176\t28    \t0.00261783 \t0.998557  \t0.997968  \t0.979821   \n",
      "177\t29    \t0.0544249  \t0.998636  \t0.990569  \t0.609621   \n",
      "178\t22    \t0.0106469  \t0.998733  \t0.996933  \t0.922429   \n",
      "179\t32    \t9.55853e-05\t0.998733  \t0.998537  \t0.998318   \n",
      "180\t32    \t0.0003516  \t0.998749  \t0.998525  \t0.996578   \n",
      "181\t25    \t0.000418562\t0.998811  \t0.998632  \t0.995746   \n",
      "182\t28    \t0.00059698 \t0.998841  \t0.998595  \t0.995773   \n",
      "183\t27    \t4.78695e-05\t0.998841  \t0.998784  \t0.998647   \n",
      "184\t27    \t0.000181541\t0.998851  \t0.998779  \t0.997542   \n",
      "185\t28    \t0.000126667\t0.998881  \t0.99881   \t0.997951   \n",
      "186\t37    \t0.00178275 \t0.998881  \t0.998532  \t0.986495   \n",
      "187\t27    \t0.000226263\t0.998885  \t0.998819  \t0.997237   \n",
      "188\t30    \t1.55536e-05\t0.998901  \t0.998862  \t0.998836   \n",
      "189\t27    \t9.71928e-05\t0.998907  \t0.998859  \t0.998334   \n",
      "190\t24    \t6.19503e-05\t0.99897   \t0.998883  \t0.998466   \n",
      "191\t18    \t1.80226e-05\t0.998973  \t0.998901  \t0.998856   \n",
      "192\t29    \t4.66581e-05\t0.999016  \t0.998917  \t0.998682   \n",
      "193\t25    \t4.02982e-05\t0.999076  \t0.998951  \t0.998901   \n",
      "194\t33    \t0.000178153\t0.999029  \t0.998943  \t0.997868   \n",
      "195\t25    \t3.11737e-05\t0.999087  \t0.998997  \t0.998881   \n",
      "196\t18    \t0.000474542\t0.999106  \t0.998946  \t0.995628   \n",
      "197\t31    \t0.000212451\t0.999106  \t0.998979  \t0.997967   \n",
      "198\t22    \t5.18692e-05\t0.999106  \t0.999054  \t0.998775   \n",
      "199\t20    \t2.14929e-05\t0.999129  \t0.999088  \t0.999029   \n",
      "200\t25    \t0.000111811\t0.999129  \t0.999088  \t0.998311   \n"
     ]
    }
   ],
   "source": [
    "try:\n",
    "    pop, log = algorithms.eaSimple(pop, toolbox, cxpb=0.5, mutpb=0.1, ngen=NGEN, \n",
    "                               stats=stats, halloffame=hof, verbose=True)\n",
    "except KeyboardInterrupt:\n",
    "    display(circles_to_image(hof[0]))"
   ]
  },
  {
   "cell_type": "code",
   "execution_count": 12,
   "metadata": {
    "collapsed": false
   },
   "outputs": [
    {
     "data": {
      "image/png": "[encoded data removed]",
      "text/plain": [
       "<PIL.Image.Image image mode=RGB size=256x256 at 0x7F1A2016C780>"
      ]
     },
     "metadata": {},
     "output_type": "display_data"
    }
   ],
   "source": [
    "display(circles_to_image(hof[0]))\n",
    "circles_to_image(hof[0]).save('output/nsfw-circle50.png')"
   ]
  },
  {
   "cell_type": "code",
   "execution_count": null,
   "metadata": {
    "collapsed": true
   },
   "outputs": [],
   "source": [
    "\n",
    "\n",
    "\n",
    "\n",
    "\n",
    "\n",
    "\n",
    "\n",
    "\n",
    "\n",
    "\n",
    "\n",
    "\n",
    "\n",
    "\n",
    "\n",
    "\n",
    "\n",
    "\n",
    "\n",
    "\n",
    "\n",
    "\n",
    "\n",
    "\n"
   ]
  }
 ],
 "metadata": {
  "kernelspec": {
   "display_name": "Python 3",
   "language": "python",
   "name": "python3"
  },
  "language_info": {
   "codemirror_mode": {
    "name": "ipython",
    "version": 3
   },
   "file_extension": ".py",
   "mimetype": "text/x-python",
   "name": "python",
   "nbconvert_exporter": "python",
   "pygments_lexer": "ipython3",
   "version": "3.5.2"
  }
 },
 "nbformat": 4,
 "nbformat_minor": 0
}
